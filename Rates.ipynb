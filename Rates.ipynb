{
 "cells": [
  {
   "cell_type": "markdown",
   "metadata": {},
   "source": [
    "# Rates Information\n",
    "[Rates link](http://developer.oanda.com/rest-live/rates/)\n",
    "\n"
   ]
  },
  {
   "cell_type": "markdown",
   "metadata": {},
   "source": [
    "## Obtaining Market Rates \n",
    "Importing libraries"
   ]
  },
  {
   "cell_type": "code",
   "execution_count": 13,
   "metadata": {
    "collapsed": true
   },
   "outputs": [],
   "source": [
    "import pandas as pd\n",
    "import oandapy\n",
    "import configparser"
   ]
  },
  {
   "cell_type": "markdown",
   "metadata": {
    "collapsed": true
   },
   "source": [
    "practice\n",
    "- oanda - Rates Information.ipynb\n",
    "- config - config_v1.ini"
   ]
  },
  {
   "cell_type": "code",
   "execution_count": 14,
   "metadata": {},
   "outputs": [],
   "source": [
    "config = configparser.ConfigParser()"
   ]
  },
  {
   "cell_type": "code",
   "execution_count": 15,
   "metadata": {},
   "outputs": [
    {
     "name": "stderr",
     "output_type": "stream",
     "text": [
      "/usr/local/lib/python2.7/site-packages/ipykernel_launcher.py:1: DeprecationWarning: You passed a bytestring as `filenames`. This will not work on Python 3. Use `cp.read_file()` or switch to using Unicode strings across the board.\n",
      "  \"\"\"Entry point for launching an IPython kernel.\n"
     ]
    },
    {
     "data": {
      "text/plain": [
       "['../config/config.ini']"
      ]
     },
     "execution_count": 15,
     "metadata": {},
     "output_type": "execute_result"
    }
   ],
   "source": [
    "config.read('../config/config.ini')"
   ]
  },
  {
   "cell_type": "code",
   "execution_count": 22,
   "metadata": {},
   "outputs": [],
   "source": [
    "account_example_id = config['oanda']['account_id']"
   ]
  },
  {
   "cell_type": "code",
   "execution_count": 23,
   "metadata": {},
   "outputs": [],
   "source": [
    "api_key = config['oanda']['api_key']"
   ]
  },
  {
   "cell_type": "code",
   "execution_count": 24,
   "metadata": {},
   "outputs": [
    {
     "name": "stdout",
     "output_type": "stream",
     "text": [
      "{u'prices': [{u'ask': 1.17752, u'instrument': u'EUR_USD', u'bid': 1.17717, u'status': u'halted', u'time': u'2017-08-04T20:59:58.884983Z'}, {u'ask': 0.74274, u'instrument': u'NZD_USD', u'bid': 0.74097, u'status': u'halted', u'time': u'2017-08-04T20:59:58.887602Z'}, {u'ask': 0.90345, u'instrument': u'EUR_GBP', u'bid': 0.90245, u'status': u'halted', u'time': u'2017-08-04T20:59:58.887065Z'}]}\n"
     ]
    }
   ],
   "source": [
    "oanda = oandapy.API(environment='practice',\n",
    "                    access_token=api_key)\n",
    "response = oanda.get_prices(instruments = \"EUR_USD,NZD_USD,EUR_GBP\")\n",
    "print(response)"
   ]
  },
  {
   "cell_type": "code",
   "execution_count": 25,
   "metadata": {},
   "outputs": [],
   "source": [
    "prices = response['prices'][0]['ask']"
   ]
  },
  {
   "cell_type": "code",
   "execution_count": 26,
   "metadata": {},
   "outputs": [
    {
     "name": "stdout",
     "output_type": "stream",
     "text": [
      "[2017-08-04T20:59:58.884983Z][EUR_USD] bid = 1.17717 ask = 1.17752\n"
     ]
    }
   ],
   "source": [
    "data = response['prices']\n",
    "time_stamp = data[0]['time']\n",
    "instrument = data[0]['instrument']\n",
    "bid_price = data[0]['bid']\n",
    "ask_price = data[0]['ask']\n",
    "\n",
    "print(\"[{}][{}] bid = {} ask = {}\".format(time_stamp,\n",
    "                                        instrument,\n",
    "                                        bid_price,\n",
    "                                        ask_price))\n",
    "\n",
    "table_print = pd.DataFrame(response['prices'])"
   ]
  },
  {
   "cell_type": "code",
   "execution_count": 27,
   "metadata": {},
   "outputs": [
    {
     "name": "stdout",
     "output_type": "stream",
     "text": [
      "       ask      bid instrument  status                         time\n",
      "0  1.17752  1.17717    EUR_USD  halted  2017-08-04T20:59:58.884983Z\n",
      "1  0.74274  0.74097    NZD_USD  halted  2017-08-04T20:59:58.887602Z\n",
      "2  0.90345  0.90245    EUR_GBP  halted  2017-08-04T20:59:58.887065Z\n"
     ]
    }
   ],
   "source": [
    "print(table_print)"
   ]
  },
  {
   "cell_type": "markdown",
   "metadata": {},
   "source": [
    "# Instruments"
   ]
  },
  {
   "cell_type": "code",
   "execution_count": 32,
   "metadata": {},
   "outputs": [
    {
     "name": "stdout",
     "output_type": "stream",
     "text": [
      "   displayName instrument  maxTradeUnits     pip\n",
      "0      AUD/CAD    AUD_CAD       10000000  0.0001\n",
      "1      AUD/CHF    AUD_CHF       10000000  0.0001\n",
      "2      AUD/HKD    AUD_HKD       10000000  0.0001\n",
      "3      AUD/JPY    AUD_JPY       10000000    0.01\n",
      "4      AUD/NZD    AUD_NZD       10000000  0.0001\n",
      "5      AUD/SGD    AUD_SGD       10000000  0.0001\n",
      "6      AUD/USD    AUD_USD       10000000  0.0001\n",
      "7      CAD/CHF    CAD_CHF       10000000  0.0001\n",
      "8      CAD/HKD    CAD_HKD       10000000  0.0001\n",
      "9      CAD/JPY    CAD_JPY       10000000    0.01\n",
      "10     CAD/SGD    CAD_SGD       10000000  0.0001\n",
      "11     CHF/HKD    CHF_HKD       10000000  0.0001\n",
      "12     CHF/JPY    CHF_JPY       10000000    0.01\n",
      "13     CHF/ZAR    CHF_ZAR       10000000  0.0001\n",
      "14     EUR/AUD    EUR_AUD       10000000  0.0001\n",
      "15     EUR/CAD    EUR_CAD       10000000  0.0001\n",
      "16     EUR/CHF    EUR_CHF       10000000  0.0001\n",
      "17     EUR/CZK    EUR_CZK       10000000  0.0001\n",
      "18     EUR/DKK    EUR_DKK       10000000  0.0001\n",
      "19     EUR/GBP    EUR_GBP       10000000  0.0001\n",
      "20     EUR/HKD    EUR_HKD       10000000  0.0001\n",
      "21     EUR/HUF    EUR_HUF       10000000    0.01\n",
      "22     EUR/JPY    EUR_JPY       10000000    0.01\n",
      "23     EUR/NOK    EUR_NOK       10000000  0.0001\n",
      "24     EUR/NZD    EUR_NZD       10000000  0.0001\n",
      "25     EUR/PLN    EUR_PLN       10000000  0.0001\n",
      "26     EUR/SEK    EUR_SEK       10000000  0.0001\n",
      "27     EUR/SGD    EUR_SGD       10000000  0.0001\n",
      "28     EUR/TRY    EUR_TRY       10000000  0.0001\n",
      "29     EUR/USD    EUR_USD       10000000  0.0001\n",
      "..         ...        ...            ...     ...\n",
      "40     GBP/ZAR    GBP_ZAR       10000000  0.0001\n",
      "41     HKD/JPY    HKD_JPY       10000000  0.0001\n",
      "42     NZD/CAD    NZD_CAD       10000000  0.0001\n",
      "43     NZD/CHF    NZD_CHF       10000000  0.0001\n",
      "44     NZD/HKD    NZD_HKD       10000000  0.0001\n",
      "45     NZD/JPY    NZD_JPY       10000000    0.01\n",
      "46     NZD/SGD    NZD_SGD       10000000  0.0001\n",
      "47     NZD/USD    NZD_USD       10000000  0.0001\n",
      "48     SGD/CHF    SGD_CHF       10000000  0.0001\n",
      "49     SGD/HKD    SGD_HKD       10000000  0.0001\n",
      "50     SGD/JPY    SGD_JPY       10000000    0.01\n",
      "51     TRY/JPY    TRY_JPY       10000000    0.01\n",
      "52     USD/CAD    USD_CAD       10000000  0.0001\n",
      "53     USD/CHF    USD_CHF       10000000  0.0001\n",
      "54     USD/CNH    USD_CNH       10000000  0.0001\n",
      "55     USD/CZK    USD_CZK       10000000  0.0001\n",
      "56     USD/DKK    USD_DKK       10000000  0.0001\n",
      "57     USD/HKD    USD_HKD       10000000  0.0001\n",
      "58     USD/HUF    USD_HUF       10000000    0.01\n",
      "59     USD/JPY    USD_JPY       10000000    0.01\n",
      "60     USD/MXN    USD_MXN       10000000  0.0001\n",
      "61     USD/NOK    USD_NOK       10000000  0.0001\n",
      "62     USD/PLN    USD_PLN       10000000  0.0001\n",
      "63     USD/SAR    USD_SAR       10000000  0.0001\n",
      "64     USD/SEK    USD_SEK       10000000  0.0001\n",
      "65     USD/SGD    USD_SGD       10000000  0.0001\n",
      "66     USD/THB    USD_THB       10000000    0.01\n",
      "67     USD/TRY    USD_TRY       10000000  0.0001\n",
      "68     USD/ZAR    USD_ZAR       10000000  0.0001\n",
      "69     ZAR/JPY    ZAR_JPY       10000000    0.01\n",
      "\n",
      "[70 rows x 4 columns]\n"
     ]
    }
   ],
   "source": [
    "response = oanda.get_instruments(account_example_id)\n",
    "instruments_table = pd.DataFrame(response['instruments'])\n",
    "print(instruments_table)\n"
   ]
  },
  {
   "cell_type": "markdown",
   "metadata": {},
   "source": [
    "# HISTORY"
   ]
  },
  {
   "cell_type": "code",
   "execution_count": 33,
   "metadata": {},
   "outputs": [
    {
     "name": "stdout",
     "output_type": "stream",
     "text": [
      "                            Time  Open_Bid  Open_Ask  High_Bid  High_Ask  \\\n",
      "495  2017-08-04T20:59:30.000000Z   1.17714   1.17781   1.17727   1.17781   \n",
      "496  2017-08-04T20:59:35.000000Z   1.17725   1.17759   1.17725   1.17760   \n",
      "497  2017-08-04T20:59:40.000000Z   1.17726   1.17758   1.17726   1.17758   \n",
      "498  2017-08-04T20:59:45.000000Z   1.17717   1.17752   1.17717   1.17752   \n",
      "499  2017-08-04T20:59:55.000000Z   1.17717   1.17752   1.17717   1.17752   \n",
      "\n",
      "     Low_Bid  Low_Ask  Close_Bid  Close_Ask  Complete  Volume  \n",
      "495  1.17714  1.17757    1.17727    1.17757      True      15  \n",
      "496  1.17725  1.17758    1.17725    1.17758      True       3  \n",
      "497  1.17726  1.17758    1.17726    1.17758      True       1  \n",
      "498  1.17717  1.17752    1.17717    1.17752      True       1  \n",
      "499  1.17717  1.17752    1.17717    1.17752      True       1  \n"
     ]
    }
   ],
   "source": [
    "response = oanda.get_history(instrument=\"EUR_USD\")\n",
    "# print(response)\n",
    "history_print = pd.DataFrame(response['candles'])\n",
    "history_print.columns = ['Close_Ask', 'Close_Bid', 'Complete', 'High_Ask', 'High_Bid', 'Low_Ask', 'Low_Bid',\n",
    "                            'Open_Ask', 'Open_Bid', 'Time', 'Volume']\n",
    "# print(history_print.columns)\n",
    "\n",
    "res = history_print.reindex_axis(['Time', 'Open_Bid', 'Open_Ask',\n",
    "                        'High_Bid', 'High_Ask', 'Low_Bid',\n",
    "                        'Low_Ask', 'Close_Bid', 'Close_Ask',\n",
    "                        'Complete', 'Volume'],\n",
    "                       axis=1)\n",
    "\n",
    "# print(res)\n",
    "print(res.tail())"
   ]
  },
  {
   "cell_type": "code",
   "execution_count": null,
   "metadata": {
    "collapsed": true
   },
   "outputs": [],
   "source": []
  }
 ],
 "metadata": {
  "kernelspec": {
   "display_name": "Python 2",
   "language": "python",
   "name": "python2"
  },
  "language_info": {
   "codemirror_mode": {
    "name": "ipython",
    "version": 2
   },
   "file_extension": ".py",
   "mimetype": "text/x-python",
   "name": "python",
   "nbconvert_exporter": "python",
   "pygments_lexer": "ipython2",
   "version": "2.7.13"
  }
 },
 "nbformat": 4,
 "nbformat_minor": 2
}
