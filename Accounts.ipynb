{
 "cells": [
  {
   "cell_type": "markdown",
   "metadata": {
    "collapsed": true
   },
   "source": [
    "## Account info"
   ]
  },
  {
   "cell_type": "code",
   "execution_count": 2,
   "metadata": {},
   "outputs": [
    {
     "name": "stderr",
     "output_type": "stream",
     "text": [
      "/usr/local/lib/python2.7/site-packages/ipykernel_launcher.py:6: DeprecationWarning: You passed a bytestring as `filenames`. This will not work on Python 3. Use `cp.read_file()` or switch to using Unicode strings across the board.\n",
      "  \n"
     ]
    }
   ],
   "source": [
    "import pandas as pd\n",
    "import oandapy\n",
    "import configparser\n",
    "\n",
    "config = configparser.ConfigParser()\n",
    "config.read('../config/config.ini')\n",
    "account_example_id = config['oanda']['account_id']\n",
    "api_key = config['oanda']['api_key']\n",
    "\n",
    "oanda = oandapy.API(environment='practice',\n",
    "                    access_token=api_key)\n"
   ]
  },
  {
   "cell_type": "code",
   "execution_count": 4,
   "metadata": {},
   "outputs": [
    {
     "data": {
      "text/html": [
       "<div>\n",
       "<style>\n",
       "    .dataframe thead tr:only-child th {\n",
       "        text-align: right;\n",
       "    }\n",
       "\n",
       "    .dataframe thead th {\n",
       "        text-align: left;\n",
       "    }\n",
       "\n",
       "    .dataframe tbody tr th {\n",
       "        vertical-align: top;\n",
       "    }\n",
       "</style>\n",
       "<table border=\"1\" class=\"dataframe\">\n",
       "  <thead>\n",
       "    <tr style=\"text-align: right;\">\n",
       "      <th></th>\n",
       "      <th>accountCurrency</th>\n",
       "      <th>accountId</th>\n",
       "      <th>accountName</th>\n",
       "      <th>accountPropertyName</th>\n",
       "      <th>marginRate</th>\n",
       "    </tr>\n",
       "  </thead>\n",
       "  <tbody>\n",
       "    <tr>\n",
       "      <th>0</th>\n",
       "      <td>USD</td>\n",
       "      <td>8483063</td>\n",
       "      <td>Primary</td>\n",
       "      <td>NaN</td>\n",
       "      <td>0.02</td>\n",
       "    </tr>\n",
       "    <tr>\n",
       "      <th>1</th>\n",
       "      <td>EUR</td>\n",
       "      <td>936233</td>\n",
       "      <td>testaccount</td>\n",
       "      <td>[MT4]</td>\n",
       "      <td>0.05</td>\n",
       "    </tr>\n",
       "    <tr>\n",
       "      <th>2</th>\n",
       "      <td>EUR</td>\n",
       "      <td>327988</td>\n",
       "      <td>testaccount oanda</td>\n",
       "      <td>NaN</td>\n",
       "      <td>0.05</td>\n",
       "    </tr>\n",
       "    <tr>\n",
       "      <th>3</th>\n",
       "      <td>EUR</td>\n",
       "      <td>225374</td>\n",
       "      <td>eggie</td>\n",
       "      <td>NaN</td>\n",
       "      <td>0.02</td>\n",
       "    </tr>\n",
       "    <tr>\n",
       "      <th>4</th>\n",
       "      <td>EUR</td>\n",
       "      <td>177945</td>\n",
       "      <td>eggie2</td>\n",
       "      <td>[MT4]</td>\n",
       "      <td>0.02</td>\n",
       "    </tr>\n",
       "    <tr>\n",
       "      <th>5</th>\n",
       "      <td>EUR</td>\n",
       "      <td>383340</td>\n",
       "      <td>nieuw</td>\n",
       "      <td>NaN</td>\n",
       "      <td>0.02</td>\n",
       "    </tr>\n",
       "    <tr>\n",
       "      <th>6</th>\n",
       "      <td>USD</td>\n",
       "      <td>191720</td>\n",
       "      <td>fxUnity</td>\n",
       "      <td>[BEGINNER]</td>\n",
       "      <td>0.05</td>\n",
       "    </tr>\n",
       "    <tr>\n",
       "      <th>7</th>\n",
       "      <td>EUR</td>\n",
       "      <td>934215</td>\n",
       "      <td>mt4practice</td>\n",
       "      <td>NaN</td>\n",
       "      <td>0.05</td>\n",
       "    </tr>\n",
       "    <tr>\n",
       "      <th>8</th>\n",
       "      <td>EUR</td>\n",
       "      <td>930411</td>\n",
       "      <td>mt4 kevin</td>\n",
       "      <td>[MT4]</td>\n",
       "      <td>0.05</td>\n",
       "    </tr>\n",
       "    <tr>\n",
       "      <th>9</th>\n",
       "      <td>EUR</td>\n",
       "      <td>870957</td>\n",
       "      <td>systeem test</td>\n",
       "      <td>NaN</td>\n",
       "      <td>0.02</td>\n",
       "    </tr>\n",
       "    <tr>\n",
       "      <th>10</th>\n",
       "      <td>EUR</td>\n",
       "      <td>527646</td>\n",
       "      <td>fx the furious test</td>\n",
       "      <td>NaN</td>\n",
       "      <td>0.02</td>\n",
       "    </tr>\n",
       "    <tr>\n",
       "      <th>11</th>\n",
       "      <td>EUR</td>\n",
       "      <td>6439066</td>\n",
       "      <td>practiceMA</td>\n",
       "      <td>NaN</td>\n",
       "      <td>0.05</td>\n",
       "    </tr>\n",
       "  </tbody>\n",
       "</table>\n",
       "</div>"
      ],
      "text/plain": [
       "   accountCurrency  accountId          accountName accountPropertyName  \\\n",
       "0              USD    8483063              Primary                 NaN   \n",
       "1              EUR     936233          testaccount               [MT4]   \n",
       "2              EUR     327988    testaccount oanda                 NaN   \n",
       "3              EUR     225374                eggie                 NaN   \n",
       "4              EUR     177945               eggie2               [MT4]   \n",
       "5              EUR     383340                nieuw                 NaN   \n",
       "6              USD     191720              fxUnity          [BEGINNER]   \n",
       "7              EUR     934215          mt4practice                 NaN   \n",
       "8              EUR     930411            mt4 kevin               [MT4]   \n",
       "9              EUR     870957         systeem test                 NaN   \n",
       "10             EUR     527646  fx the furious test                 NaN   \n",
       "11             EUR    6439066           practiceMA                 NaN   \n",
       "\n",
       "    marginRate  \n",
       "0         0.02  \n",
       "1         0.05  \n",
       "2         0.05  \n",
       "3         0.02  \n",
       "4         0.02  \n",
       "5         0.02  \n",
       "6         0.05  \n",
       "7         0.05  \n",
       "8         0.05  \n",
       "9         0.02  \n",
       "10        0.02  \n",
       "11        0.05  "
      ]
     },
     "execution_count": 4,
     "metadata": {},
     "output_type": "execute_result"
    }
   ],
   "source": [
    "response = oanda.get_accounts()\n",
    "pd.DataFrame(response['accounts'])"
   ]
  },
  {
   "cell_type": "markdown",
   "metadata": {},
   "source": [
    "# Obtaining Specific Account Info"
   ]
  },
  {
   "cell_type": "code",
   "execution_count": 8,
   "metadata": {},
   "outputs": [
    {
     "data": {
      "text/plain": [
       "accountCurrency        USD\n",
       "accountId          8483063\n",
       "accountName        Primary\n",
       "balance            169.649\n",
       "marginAvail        169.649\n",
       "marginRate            0.02\n",
       "marginUsed               0\n",
       "openOrders               0\n",
       "openTrades               0\n",
       "realizedPl         3012.56\n",
       "unrealizedPl             0\n",
       "dtype: object"
      ]
     },
     "execution_count": 8,
     "metadata": {},
     "output_type": "execute_result"
    }
   ],
   "source": [
    "response = oanda.get_account(account_example_id)\n",
    "pd.Series(response)"
   ]
  },
  {
   "cell_type": "code",
   "execution_count": 9,
   "metadata": {},
   "outputs": [
    {
     "data": {
      "text/plain": [
       "accountCurrency           EUR\n",
       "accountId             6439066\n",
       "accountName        practiceMA\n",
       "balance               99.5224\n",
       "marginAvail           99.9053\n",
       "marginRate               0.05\n",
       "marginUsed             2.9247\n",
       "openOrders                  0\n",
       "openTrades                  6\n",
       "realizedPl            -0.0045\n",
       "unrealizedPl           3.3076\n",
       "dtype: object"
      ]
     },
     "execution_count": 9,
     "metadata": {},
     "output_type": "execute_result"
    }
   ],
   "source": [
    "response = oanda.get_account(6439066)\n",
    "pd.Series(response)"
   ]
  },
  {
   "cell_type": "code",
   "execution_count": 10,
   "metadata": {},
   "outputs": [
    {
     "name": "stdout",
     "output_type": "stream",
     "text": [
      "99.9053\n"
     ]
    }
   ],
   "source": [
    "print(response['marginAvail'])"
   ]
  },
  {
   "cell_type": "code",
   "execution_count": null,
   "metadata": {
    "collapsed": true
   },
   "outputs": [],
   "source": []
  }
 ],
 "metadata": {
  "kernelspec": {
   "display_name": "Python 2",
   "language": "python",
   "name": "python2"
  },
  "language_info": {
   "codemirror_mode": {
    "name": "ipython",
    "version": 2
   },
   "file_extension": ".py",
   "mimetype": "text/x-python",
   "name": "python",
   "nbconvert_exporter": "python",
   "pygments_lexer": "ipython2",
   "version": "2.7.13"
  }
 },
 "nbformat": 4,
 "nbformat_minor": 2
}
