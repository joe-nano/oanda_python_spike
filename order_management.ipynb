{
 "cells": [
  {
   "cell_type": "markdown",
   "metadata": {},
   "source": [
    "# Order Managament\n",
    "\n",
    "[orders](http://developer.oanda.com/rest-live/oarders/)"
   ]
  },
  {
   "cell_type": "markdown",
   "metadata": {},
   "source": [
    "# Creating Orders\n",
    "create_order(self, account_id, **params)"
   ]
  },
  {
   "cell_type": "code",
   "execution_count": 2,
   "metadata": {},
   "outputs": [
    {
     "name": "stderr",
     "output_type": "stream",
     "text": [
      "/usr/local/lib/python2.7/site-packages/ipykernel_launcher.py:7: DeprecationWarning: You passed a bytestring as `filenames`. This will not work on Python 3. Use `cp.read_file()` or switch to using Unicode strings across the board.\n",
      "  import sys\n"
     ]
    }
   ],
   "source": [
    "from datetime import datetime, timedelta\n",
    "import pandas as pd\n",
    "import oandapy\n",
    "import configparser\n",
    "\n",
    "config = configparser.ConfigParser()\n",
    "config.read('../config/config.ini')\n",
    "account_example_id = config['oanda']['account_id']\n",
    "api_key = config['oanda']['api_key']\n",
    "\n",
    "oanda = oandapy.API(environment='practice',\n",
    "                    access_token=api_key)"
   ]
  },
  {
   "cell_type": "code",
   "execution_count": 3,
   "metadata": {},
   "outputs": [
    {
     "data": {
      "text/plain": [
       "'2017-08-16T19:54:23.997301Z'"
      ]
     },
     "execution_count": 3,
     "metadata": {},
     "output_type": "execute_result"
    }
   ],
   "source": [
    "trade_expire = datetime.now() + timedelta(days=1)\n",
    "trade_expire = trade_expire.isoformat(\"T\") + \"Z\"\n",
    "trade_expire"
   ]
  },
  {
   "cell_type": "code",
   "execution_count": 4,
   "metadata": {},
   "outputs": [
    {
     "data": {
      "text/plain": [
       "datetime.datetime(2017, 8, 7, 20, 34, 16, 843796)"
      ]
     },
     "execution_count": 4,
     "metadata": {},
     "output_type": "execute_result"
    }
   ],
   "source": [
    "datetime.now()"
   ]
  },
  {
   "cell_type": "code",
   "execution_count": 5,
   "metadata": {
    "collapsed": true
   },
   "outputs": [],
   "source": [
    "trade_expire = datetime.now() + timedelta(days=1)\n"
   ]
  },
  {
   "cell_type": "code",
   "execution_count": 6,
   "metadata": {
    "collapsed": true
   },
   "outputs": [],
   "source": [
    "trade_expire = trade_expire.isoformat('T') + \"Z\""
   ]
  },
  {
   "cell_type": "code",
   "execution_count": 7,
   "metadata": {},
   "outputs": [
    {
     "data": {
      "text/plain": [
       "'2017-08-08T20:39:54.682846Z'"
      ]
     },
     "execution_count": 7,
     "metadata": {},
     "output_type": "execute_result"
    }
   ],
   "source": [
    "trade_expire\n"
   ]
  },
  {
   "cell_type": "code",
   "execution_count": 4,
   "metadata": {},
   "outputs": [
    {
     "name": "stdout",
     "output_type": "stream",
     "text": [
      "{u'orderOpened': {u'lowerBound': 0, u'stopLoss': 0, u'takeProfit': 0, u'upperBound': 0, u'expiry': u'2017-08-16T19:54:23.000000Z', u'trailingStop': 0, u'units': 1200, u'id': 10797731033, u'side': u'buy'}, u'instrument': u'EUR_USD', u'price': 1.1792, u'time': u'2017-08-15T17:55:15.000000Z'}\n"
     ]
    }
   ],
   "source": [
    "response = oanda.create_order(account_example_id, \n",
    "                              instrument = \"EUR_USD\",\n",
    "                              units=1200,\n",
    "                              side=\"buy\",\n",
    "                              type=\"limit\",\n",
    "                              price=1.1792,\n",
    "                              expiry=trade_expire\n",
    "                             )\n",
    "print(response)"
   ]
  },
  {
   "cell_type": "code",
   "execution_count": 5,
   "metadata": {
    "scrolled": true
   },
   "outputs": [
    {
     "data": {
      "text/plain": [
       "expiry          2017-08-16T19:54:23.000000Z\n",
       "id                              10797731033\n",
       "lowerBound                                0\n",
       "side                                    buy\n",
       "stopLoss                                  0\n",
       "takeProfit                                0\n",
       "trailingStop                              0\n",
       "units                                  1200\n",
       "upperBound                                0\n",
       "dtype: object"
      ]
     },
     "execution_count": 5,
     "metadata": {},
     "output_type": "execute_result"
    }
   ],
   "source": [
    "pd.Series(response['orderOpened'])"
   ]
  },
  {
   "cell_type": "code",
   "execution_count": 32,
   "metadata": {},
   "outputs": [
    {
     "name": "stdout",
     "output_type": "stream",
     "text": [
      "{u'orderOpened': {u'lowerBound': 0, u'stopLoss': 0, u'takeProfit': 0, u'upperBound': 0, u'expiry': u'2017-08-16T19:54:23.000000Z', u'trailingStop': 0, u'units': 1000, u'id': 10797772264, u'side': u'buy'}, u'instrument': u'AUD_USD', u'price': 0.742, u'time': u'2017-08-15T18:28:40.000000Z'}\n"
     ]
    }
   ],
   "source": [
    "response = oanda.create_order(account_example_id,\n",
    "                              instrument = \"AUD_USD\",\n",
    "                              units=1000,\n",
    "                              side=\"buy\",\n",
    "                              type=\"limit\",\n",
    "                              price=0.7420,\n",
    "                              expiry=trade_expire)\n",
    "print(response)"
   ]
  },
  {
   "cell_type": "code",
   "execution_count": 33,
   "metadata": {},
   "outputs": [],
   "source": [
    "order_id = response[\"orderOpened\"]['id']"
   ]
  },
  {
   "cell_type": "markdown",
   "metadata": {},
   "source": [
    "# Getting Open Orders\n",
    "get_orders(self, account_id, **params)"
   ]
  },
  {
   "cell_type": "code",
   "execution_count": 34,
   "metadata": {},
   "outputs": [
    {
     "name": "stdout",
     "output_type": "stream",
     "text": [
      "{u'orders': [{u'lowerBound': 0, u'stopLoss': 0, u'takeProfit': 0, u'price': 0.742, u'upperBound': 0, u'side': u'buy', u'trailingStop': 0, u'instrument': u'AUD_USD', u'time': u'2017-08-15T18:28:40.000000Z', u'units': 1000, u'expiry': u'2017-08-16T19:54:23.000000Z', u'type': u'limit', u'id': 10797772264}]}\n"
     ]
    }
   ],
   "source": [
    "response = oanda.get_orders(account_example_id)\n",
    "print(response)"
   ]
  },
  {
   "cell_type": "code",
   "execution_count": 35,
   "metadata": {},
   "outputs": [
    {
     "data": {
      "text/html": [
       "<div>\n",
       "<style>\n",
       "    .dataframe thead tr:only-child th {\n",
       "        text-align: right;\n",
       "    }\n",
       "\n",
       "    .dataframe thead th {\n",
       "        text-align: left;\n",
       "    }\n",
       "\n",
       "    .dataframe tbody tr th {\n",
       "        vertical-align: top;\n",
       "    }\n",
       "</style>\n",
       "<table border=\"1\" class=\"dataframe\">\n",
       "  <thead>\n",
       "    <tr style=\"text-align: right;\">\n",
       "      <th></th>\n",
       "      <th>expiry</th>\n",
       "      <th>id</th>\n",
       "      <th>instrument</th>\n",
       "      <th>lowerBound</th>\n",
       "      <th>price</th>\n",
       "      <th>side</th>\n",
       "      <th>stopLoss</th>\n",
       "      <th>takeProfit</th>\n",
       "      <th>time</th>\n",
       "      <th>trailingStop</th>\n",
       "      <th>type</th>\n",
       "      <th>units</th>\n",
       "      <th>upperBound</th>\n",
       "    </tr>\n",
       "  </thead>\n",
       "  <tbody>\n",
       "    <tr>\n",
       "      <th>0</th>\n",
       "      <td>2017-08-16T19:54:23.000000Z</td>\n",
       "      <td>10797772264</td>\n",
       "      <td>AUD_USD</td>\n",
       "      <td>0</td>\n",
       "      <td>0.742</td>\n",
       "      <td>buy</td>\n",
       "      <td>0</td>\n",
       "      <td>0</td>\n",
       "      <td>2017-08-15T18:28:40.000000Z</td>\n",
       "      <td>0</td>\n",
       "      <td>limit</td>\n",
       "      <td>1000</td>\n",
       "      <td>0</td>\n",
       "    </tr>\n",
       "  </tbody>\n",
       "</table>\n",
       "</div>"
      ],
      "text/plain": [
       "                        expiry           id instrument  lowerBound  price  \\\n",
       "0  2017-08-16T19:54:23.000000Z  10797772264    AUD_USD           0  0.742   \n",
       "\n",
       "  side  stopLoss  takeProfit                         time  trailingStop  \\\n",
       "0  buy         0           0  2017-08-15T18:28:40.000000Z             0   \n",
       "\n",
       "    type  units  upperBound  \n",
       "0  limit   1000           0  "
      ]
     },
     "execution_count": 35,
     "metadata": {},
     "output_type": "execute_result"
    }
   ],
   "source": [
    "pd.DataFrame(response['orders'])"
   ]
  },
  {
   "cell_type": "markdown",
   "metadata": {},
   "source": [
    "# Getting Specific Order Information\n",
    "get_order(self, account_id, order_id, **params)"
   ]
  },
  {
   "cell_type": "code",
   "execution_count": 36,
   "metadata": {},
   "outputs": [],
   "source": [
    "response = oanda.get_orders(account_example_id)\n",
    "id = response['orders'][0]['id']"
   ]
  },
  {
   "cell_type": "code",
   "execution_count": 37,
   "metadata": {},
   "outputs": [
    {
     "data": {
      "text/plain": [
       "{u'expiry': u'2017-08-16T19:54:23.000000Z',\n",
       " u'id': 10797772264,\n",
       " u'instrument': u'AUD_USD',\n",
       " u'lowerBound': 0,\n",
       " u'price': 0.742,\n",
       " u'side': u'buy',\n",
       " u'stopLoss': 0,\n",
       " u'takeProfit': 0,\n",
       " u'time': u'2017-08-15T18:28:40.000000Z',\n",
       " u'trailingStop': 0,\n",
       " u'type': u'limit',\n",
       " u'units': 1000,\n",
       " u'upperBound': 0}"
      ]
     },
     "execution_count": 37,
     "metadata": {},
     "output_type": "execute_result"
    }
   ],
   "source": [
    "oanda.get_order(account_example_id, order_id=id)"
   ]
  },
  {
   "cell_type": "markdown",
   "metadata": {},
   "source": [
    "# Modify Order\n",
    "modify_order(self, account_id, order_id, **params)"
   ]
  },
  {
   "cell_type": "code",
   "execution_count": 38,
   "metadata": {
    "collapsed": true
   },
   "outputs": [],
   "source": [
    "response = oanda.get_orders(account_example_id)\n",
    "id = response['orders'][0]['id']"
   ]
  },
  {
   "cell_type": "code",
   "execution_count": 39,
   "metadata": {},
   "outputs": [
    {
     "name": "stdout",
     "output_type": "stream",
     "text": [
      "{u'orders': [{u'lowerBound': 0, u'stopLoss': 0, u'takeProfit': 0, u'price': 0.742, u'upperBound': 0, u'side': u'buy', u'trailingStop': 0, u'instrument': u'AUD_USD', u'time': u'2017-08-15T18:28:40.000000Z', u'units': 1000, u'expiry': u'2017-08-16T19:54:23.000000Z', u'type': u'limit', u'id': 10797772264}]}\n"
     ]
    }
   ],
   "source": [
    "print(response)"
   ]
  },
  {
   "cell_type": "code",
   "execution_count": 40,
   "metadata": {},
   "outputs": [
    {
     "data": {
      "text/plain": [
       "{u'expiry': u'2017-08-16T19:54:23.000000Z',\n",
       " u'id': 10797772264,\n",
       " u'instrument': u'AUD_USD',\n",
       " u'lowerBound': 0,\n",
       " u'price': 0.704,\n",
       " u'side': u'buy',\n",
       " u'stopLoss': 0,\n",
       " u'takeProfit': 0,\n",
       " u'time': u'2017-08-15T18:29:02.000000Z',\n",
       " u'trailingStop': 0,\n",
       " u'type': u'limit',\n",
       " u'units': 1000,\n",
       " u'upperBound': 0}"
      ]
     },
     "execution_count": 40,
     "metadata": {},
     "output_type": "execute_result"
    }
   ],
   "source": [
    "oanda.modify_order(account_example_id, order_id=id, price=0.7040)"
   ]
  },
  {
   "cell_type": "markdown",
   "metadata": {},
   "source": [
    "# Close Order\n",
    "close_order(self, account_id, order_id, **params)\n"
   ]
  },
  {
   "cell_type": "code",
   "execution_count": 41,
   "metadata": {},
   "outputs": [
    {
     "data": {
      "text/html": [
       "<div>\n",
       "<style>\n",
       "    .dataframe thead tr:only-child th {\n",
       "        text-align: right;\n",
       "    }\n",
       "\n",
       "    .dataframe thead th {\n",
       "        text-align: left;\n",
       "    }\n",
       "\n",
       "    .dataframe tbody tr th {\n",
       "        vertical-align: top;\n",
       "    }\n",
       "</style>\n",
       "<table border=\"1\" class=\"dataframe\">\n",
       "  <thead>\n",
       "    <tr style=\"text-align: right;\">\n",
       "      <th></th>\n",
       "      <th>expiry</th>\n",
       "      <th>id</th>\n",
       "      <th>instrument</th>\n",
       "      <th>lowerBound</th>\n",
       "      <th>price</th>\n",
       "      <th>side</th>\n",
       "      <th>stopLoss</th>\n",
       "      <th>takeProfit</th>\n",
       "      <th>time</th>\n",
       "      <th>trailingStop</th>\n",
       "      <th>type</th>\n",
       "      <th>units</th>\n",
       "      <th>upperBound</th>\n",
       "    </tr>\n",
       "  </thead>\n",
       "  <tbody>\n",
       "    <tr>\n",
       "      <th>0</th>\n",
       "      <td>2017-08-16T19:54:23.000000Z</td>\n",
       "      <td>10797772264</td>\n",
       "      <td>AUD_USD</td>\n",
       "      <td>0</td>\n",
       "      <td>0.704</td>\n",
       "      <td>buy</td>\n",
       "      <td>0</td>\n",
       "      <td>0</td>\n",
       "      <td>2017-08-15T18:29:02.000000Z</td>\n",
       "      <td>0</td>\n",
       "      <td>limit</td>\n",
       "      <td>1000</td>\n",
       "      <td>0</td>\n",
       "    </tr>\n",
       "  </tbody>\n",
       "</table>\n",
       "</div>"
      ],
      "text/plain": [
       "                        expiry           id instrument  lowerBound  price  \\\n",
       "0  2017-08-16T19:54:23.000000Z  10797772264    AUD_USD           0  0.704   \n",
       "\n",
       "  side  stopLoss  takeProfit                         time  trailingStop  \\\n",
       "0  buy         0           0  2017-08-15T18:29:02.000000Z             0   \n",
       "\n",
       "    type  units  upperBound  \n",
       "0  limit   1000           0  "
      ]
     },
     "execution_count": 41,
     "metadata": {},
     "output_type": "execute_result"
    }
   ],
   "source": [
    "response = oanda.get_orders(account_example_id)\n",
    "id = response['orders'][0]['id']\n",
    "pd.DataFrame(response['orders'])"
   ]
  },
  {
   "cell_type": "code",
   "execution_count": 42,
   "metadata": {},
   "outputs": [
    {
     "data": {
      "text/plain": [
       "{u'id': 10797772264,\n",
       " u'instrument': u'AUD_USD',\n",
       " u'price': 0.704,\n",
       " u'side': u'buy',\n",
       " u'time': u'2017-08-15T18:29:10.000000Z',\n",
       " u'type': u'BuyLimit',\n",
       " u'units': 1000}"
      ]
     },
     "execution_count": 42,
     "metadata": {},
     "output_type": "execute_result"
    }
   ],
   "source": [
    "oanda.close_order(account_example_id, order_id=id)"
   ]
  },
  {
   "cell_type": "markdown",
   "metadata": {},
   "source": [
    "Now when we check the orders. The above order has been closed and removed without being filled. There is only one outstanding order now."
   ]
  },
  {
   "cell_type": "code",
   "execution_count": 43,
   "metadata": {},
   "outputs": [
    {
     "data": {
      "text/plain": [
       "{u'orders': []}"
      ]
     },
     "execution_count": 43,
     "metadata": {},
     "output_type": "execute_result"
    }
   ],
   "source": [
    "oanda.get_orders(account_example_id)"
   ]
  },
  {
   "cell_type": "code",
   "execution_count": null,
   "metadata": {
    "collapsed": true
   },
   "outputs": [],
   "source": []
  }
 ],
 "metadata": {
  "kernelspec": {
   "display_name": "Python 2",
   "language": "python",
   "name": "python2"
  },
  "language_info": {
   "codemirror_mode": {
    "name": "ipython",
    "version": 2
   },
   "file_extension": ".py",
   "mimetype": "text/x-python",
   "name": "python",
   "nbconvert_exporter": "python",
   "pygments_lexer": "ipython2",
   "version": "2.7.13"
  }
 },
 "nbformat": 4,
 "nbformat_minor": 2
}
